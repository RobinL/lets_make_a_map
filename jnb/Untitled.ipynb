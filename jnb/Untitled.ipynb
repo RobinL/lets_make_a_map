{
 "cells": [
  {
   "cell_type": "code",
   "execution_count": 2,
   "metadata": {
    "collapsed": false
   },
   "outputs": [
    {
     "data": {
      "text/plain": [
       "\"Gavin O'Connor\""
      ]
     },
     "execution_count": 2,
     "metadata": {},
     "output_type": "execute_result"
    }
   ],
   "source": [
    "import unidecode\n",
    "unidecode.unidecode(u'Gavin O’Connor')\n"
   ]
  },
  {
   "cell_type": "code",
   "execution_count": 19,
   "metadata": {
    "collapsed": false
   },
   "outputs": [],
   "source": [
    "o = open(\"../data/world_ascii.csv\", 'w')\n",
    "with open(\"../data/world_csv.csv\", 'r') as f:\n",
    "    for line in f:\n",
    "        o.write(unidecode.unidecode(line.decode(\"utf-8\")))"
   ]
  },
  {
   "cell_type": "code",
   "execution_count": 18,
   "metadata": {
    "collapsed": false
   },
   "outputs": [
    {
     "name": "stdout",
     "output_type": "stream",
     "text": [
      "Netherlands,Curaçao,Curaçao,North America,Caribbean,141766.0,False,0.0,0.0,0.279018865091\n",
      "\n"
     ]
    }
   ],
   "source": [
    "print(line.decode(\"utf-8\"))"
   ]
  },
  {
   "cell_type": "code",
   "execution_count": 21,
   "metadata": {
    "collapsed": false
   },
   "outputs": [],
   "source": [
    "o = open(\"../topojson/brexit_countries_ascii.json\", 'w')\n",
    "with open(\"../topojson/brexit_countries.json\", 'r') as f:\n",
    "    for line in f:\n",
    "        o.write(unidecode.unidecode(line.decode(\"utf-8\")))"
   ]
  },
  {
   "cell_type": "code",
   "execution_count": null,
   "metadata": {
    "collapsed": true
   },
   "outputs": [],
   "source": []
  }
 ],
 "metadata": {
  "anaconda-cloud": {},
  "kernelspec": {
   "display_name": "Python [default]",
   "language": "python",
   "name": "python2"
  },
  "language_info": {
   "codemirror_mode": {
    "name": "ipython",
    "version": 2
   },
   "file_extension": ".py",
   "mimetype": "text/x-python",
   "name": "python",
   "nbconvert_exporter": "python",
   "pygments_lexer": "ipython2",
   "version": "2.7.12"
  }
 },
 "nbformat": 4,
 "nbformat_minor": 1
}
